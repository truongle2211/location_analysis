{
 "cells": [
  {
   "cell_type": "code",
   "execution_count": 1,
   "metadata": {},
   "outputs": [],
   "source": [
    "import os\n",
    "import json\n",
    "import argparse\n",
    "import pprint\n",
    "import requests\n",
    "import sys\n",
    "import urllib\n",
    "import pandas as pd\n",
    "import geojson\n",
    "import folium\n",
    "import numpy as np\n",
    "import bokeh.plotting as plt\n",
    "from geopy.distance import vincenty\n",
    "from urllib.error import HTTPError\n",
    "from urllib.parse import quote\n",
    "from urllib.parse import urlencode"
   ]
  },
  {
   "cell_type": "code",
   "execution_count": 2,
   "metadata": {},
   "outputs": [
    {
     "data": {
      "text/plain": [
       "{'CLIENT_ID': 't8Kr6Zo4bTAFGxSEXfoS3g',\n",
       " 'CLIENT_SECRET': '2phJlPTObZrc2h5t5fuwwtS3gNhxcROkr0wPpxNiIQ3puyC46qFjmLv7aWqUdIlQ'}"
      ]
     },
     "execution_count": 2,
     "metadata": {},
     "output_type": "execute_result"
    }
   ],
   "source": [
    "def import_credentials(filename = 'credential.json'):\n",
    "    if filename in [f for f in os.listdir('.') if os.path.isfile(f)]:\n",
    "        data = json.load(open(filename))\n",
    "        return data\n",
    "    else:\n",
    "        raise IOError('This API requires Yelp credentials to work')\n",
    "        \n",
    "API_HOST = 'https://api.yelp.com'\n",
    "SEARCH_PATH = '/v3/businesses/search'\n",
    "BUSINESS_PATH = '/v3/businesses/'  # Business ID will come after slash.\n",
    "TOKEN_PATH = '/oauth2/token'\n",
    "GRANT_TYPE = 'client_credentials'\n",
    "\n",
    "creditials = import_credentials()\n",
    "creditials"
   ]
  },
  {
   "cell_type": "code",
   "execution_count": 3,
   "metadata": {},
   "outputs": [],
   "source": [
    "def obtain_bearer_token(host, path):\n",
    "    '''\n",
    "     Args:\n",
    "        host (str): The domain host of the API.\n",
    "        path (str): The path of the API after the domain.\n",
    "        url_params (dict): An optional set of query parameters in the request.\n",
    "    Returns:\n",
    "        str: OAuth bearer token, obtained using client_id and client_secret.\n",
    "    Raises:\n",
    "        HTTPError: An error occurs from the HTTP request.\n",
    "    '''\n",
    "    url = '{0}{1}'.format(host, quote(path.encode('utf8')))\n",
    "    assert creditials['CLIENT_ID'], \"supply your client_id\"\n",
    "    assert creditials['CLIENT_SECRET'], \"supply your CLIENT_SECRET\"\n",
    "    data = urlencode({\n",
    "        'client_id': creditials['CLIENT_ID'],\n",
    "        'client_secret': creditials['CLIENT_SECRET'],\n",
    "        'grant_type': GRANT_TYPE\n",
    "    })\n",
    "    \n",
    "    headers = {\n",
    "        'content-type': 'application/x-www-form-urlencoded',\n",
    "    }\n",
    "    \n",
    "    response = requests.request('POST', url, data = data, headers = headers)\n",
    "    bearer_token = response.json()['access_token']\n",
    "    return bearer_token"
   ]
  },
  {
   "cell_type": "code",
   "execution_count": 4,
   "metadata": {},
   "outputs": [],
   "source": [
    "def request(host, path, bearer_token, url_params=None):\n",
    "    '''\n",
    "    Args:\n",
    "        host (str): The domain host of the API.\n",
    "        path (str): The path of the API after the domain.\n",
    "        bearer_token (str): OAuth bearer token, obtained using client_id and client_secret.\n",
    "        url_params (dict): An optional set of query parameters in the request.\n",
    "    Returns:\n",
    "        dict: The JSON response from the request.\n",
    "    Raises:\n",
    "        HTTPError: An error occurs from the HTTP request.\n",
    "    '''\n",
    "    \n",
    "    urlparams = url_params or {}\n",
    "    url = '{0}{1}'.format(host, quote(path.encode('utf8')))\n",
    "    headers = {\n",
    "        'Authorization': 'Bearer %s' % bearer_token\n",
    "    }\n",
    "    #print(u'Querying {0} ...'.format(url))\n",
    "    \n",
    "    response = requests.request('GET', url, headers = headers, params = url_params)\n",
    "    \n",
    "    return response.json()"
   ]
  },
  {
   "cell_type": "code",
   "execution_count": 5,
   "metadata": {},
   "outputs": [],
   "source": [
    "def get_business(bearer_token, business_id):\n",
    "    \"\"\"Query the Business API by a business ID.\n",
    "    Args:\n",
    "        business_id (str): The ID of the business to query.\n",
    "    Returns:\n",
    "        dict: The JSON response from the request.\n",
    "    \"\"\"\n",
    "    business_path = BUSINESS_PATH + business_id\n",
    "    \n",
    "    return request(API_HOST, business_path, bearer_token)"
   ]
  },
  {
   "cell_type": "code",
   "execution_count": 6,
   "metadata": {},
   "outputs": [],
   "source": [
    "bearer_token = obtain_bearer_token(API_HOST, TOKEN_PATH)"
   ]
  },
  {
   "cell_type": "code",
   "execution_count": 7,
   "metadata": {},
   "outputs": [],
   "source": [
    "def fetch_business(name, area='Toronto', manual_override = 0):\n",
    "    '''\n",
    "    Given the business name, return all objects of that chain in Toronto\n",
    "    '''\n",
    "    bus_id = ''\n",
    "    name = name.lower().replace(' ', '-')\n",
    "    area = area.lower().replace(' ', '-')\n",
    "    response = get_business(bearer_token, (\"{0}-{1}\".format(name, area)))\n",
    "    if 'error' in response:\n",
    "        responses = []\n",
    "    else:\n",
    "        responses = [response]\n",
    "    i = 2\n",
    "    while True:\n",
    "        bus_id = \"{0}-{1}-{2}\".format(name, area, i)\n",
    "        response = get_business(bearer_token, bus_id)\n",
    "        if 'error' in response:\n",
    "            if requests.get('https://www.yelp.com/biz/' + bus_id).status_code == 404:\n",
    "                break\n",
    "            else:\n",
    "                i += 1\n",
    "                continue\n",
    "        else:\n",
    "            if response['location']['country'] == 'CA':\n",
    "                responses += [response]\n",
    "            i+=1\n",
    "    print('End fetch business on:', \"https://api.yelp.com/v3/businesses/\" + bus_id)\n",
    "    return responses"
   ]
  },
  {
   "cell_type": "code",
   "execution_count": 8,
   "metadata": {},
   "outputs": [],
   "source": [
    "def frame(responses):\n",
    "    '''\n",
    "    Given a list of objects , builds a coordinates DataFrame\n",
    "    '''\n",
    "    latitudes = [response['coordinates']['latitude'] for response in responses]\n",
    "    longitudes = [response['coordinates']['longitude'] for response in responses]\n",
    "    df = pd.DataFrame({'latitude': latitudes, 'longitude': longitudes})\n",
    "    df.index.name = responses[0]['name']\n",
    "    return df"
   ]
  },
  {
   "cell_type": "code",
   "execution_count": 9,
   "metadata": {},
   "outputs": [],
   "source": [
    "def coordinates(df):\n",
    "    '''\n",
    "    return a folium map of all coordinates in the df\n",
    "    '''\n",
    "    \n",
    "    m = folium.Map(location = [43.659746, -79.393772], zoom_start = 12)\n",
    "    for row in df.itertuples():\n",
    "        folium.Marker([row[1], row[2]]).add_to(m)\n",
    "    return m"
   ]
  },
  {
   "cell_type": "code",
   "execution_count": 10,
   "metadata": {},
   "outputs": [],
   "source": [
    "def load_coordinates(filename='toronto.geojson'):\n",
    "    '''\n",
    "    load coordinates collection of the city\n",
    "    '''\n",
    "    with open(filename) as f:\n",
    "        data = f.read()\n",
    "        obj = geojson.loads(data)\n",
    "        ret = []\n",
    "        for feature in obj['features']:\n",
    "            ret += list(geojson.utils.coords(feature))\n",
    "        ret = [(coord[1], coord[0]) for coord in ret]\n",
    "        return ret"
   ]
  },
  {
   "cell_type": "code",
   "execution_count": 11,
   "metadata": {},
   "outputs": [],
   "source": [
    "def generate_sample_point(coordinate_list, n = 3000):\n",
    "    lats, longs = list(map(lambda coords: coords[0], coordinate_list)), list(map(lambda coords: coords[1], coordinate_list))\n",
    "    max_lat = max(lats)\n",
    "    max_long = max(longs)\n",
    "    min_lat = min(lats)\n",
    "    min_long = min(longs)\n",
    "    ret = []\n",
    "    i = 0\n",
    "    while i < n:\n",
    "        p_lat = np.random.uniform(min_lat, max_lat)\n",
    "        p_long = np.random.uniform(min_long, max_long)\n",
    "        ret.append((p_lat, p_long))\n",
    "        i += 1\n",
    "    \n",
    "    return ret"
   ]
  },
  {
   "cell_type": "code",
   "execution_count": 12,
   "metadata": {},
   "outputs": [],
   "source": [
    "def sample_point(n = 3000):\n",
    "    return generate_sample_point(load_coordinates(), n)"
   ]
  },
  {
   "cell_type": "code",
   "execution_count": 13,
   "metadata": {},
   "outputs": [],
   "source": [
    "cloud_points = sample_point()"
   ]
  },
  {
   "cell_type": "code",
   "execution_count": 14,
   "metadata": {},
   "outputs": [],
   "source": [
    "def get_minimum_distance(coordinate, coordinate_list):\n",
    "    '''\n",
    "    return the minimum distance between coordinate and any point in the coordinate_list\n",
    "    '''\n",
    "    best_distance = 10000000000\n",
    "    for coor in coordinate_list:\n",
    "        dist = vincenty(coor, coordinate).meters\n",
    "        if dist < best_distance:\n",
    "            best_distance = dist\n",
    "    return best_distance"
   ]
  },
  {
   "cell_type": "code",
   "execution_count": 15,
   "metadata": {},
   "outputs": [],
   "source": [
    "def average_distance(chain_name, cloud_points = cloud_points):\n",
    "    \"\"\"\n",
    "    calculate the average distance between each store location, which take the store name and the location\n",
    "    \"\"\"\n",
    "    chain_df = frame(fetch_business(chain_name))\n",
    "    chain_coords = list(zip(chain_df['latitude'], chain_df['longitude']))\n",
    "    distances = [get_minimum_distance(point, chain_coords) for point in cloud_points]\n",
    "    avg = sum(distances)/len(distances)\n",
    "    return avg"
   ]
  }
 ],
 "metadata": {
  "kernelspec": {
   "display_name": "Python 3",
   "language": "python",
   "name": "python3"
  },
  "language_info": {
   "codemirror_mode": {
    "name": "ipython",
    "version": 3
   },
   "file_extension": ".py",
   "mimetype": "text/x-python",
   "name": "python",
   "nbconvert_exporter": "python",
   "pygments_lexer": "ipython3",
   "version": "3.6.2"
  }
 },
 "nbformat": 4,
 "nbformat_minor": 2
}
